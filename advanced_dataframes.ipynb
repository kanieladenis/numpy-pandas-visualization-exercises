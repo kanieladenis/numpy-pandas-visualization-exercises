{
 "cells": [
  {
   "cell_type": "markdown",
   "id": "c071aeb3",
   "metadata": {},
   "source": [
    "# Exercises I\n",
    "\n",
    "1. Run python -m pip install pymysql from your terminal to install the mysql client (any folder is fine)\n",
    "2. cd into your exercises folder for this module and run echo env.py >> .gitignore\n",
    "3. Create a function named get_db_url. It should accept a username, hostname, password, and database name and return a url connection string formatted like in the example at the start of this lesson.\n",
    "4. Use your function to obtain a connection to the employees database.\n",
    "\n",
    "\n"
   ]
  },
  {
   "cell_type": "code",
   "execution_count": null,
   "id": "411282a9",
   "metadata": {},
   "outputs": [],
   "source": [
    "import pandas as pd\n",
    "import numpy as np"
   ]
  },
  {
   "cell_type": "code",
   "execution_count": null,
   "id": "c02e408e",
   "metadata": {},
   "outputs": [],
   "source": [
    "def get_db_url(db_name):\n",
    "    from env import user, host, password\n",
    "    return f'mysql+pymysql://{user}:{password}@{host}/{db_name}'"
   ]
  },
  {
   "cell_type": "code",
   "execution_count": null,
   "id": "af80a70f",
   "metadata": {},
   "outputs": [],
   "source": [
    "sql = \"\"\"\n",
    "    SELECT * from departments\n",
    "\"\"\""
   ]
  },
  {
   "cell_type": "code",
   "execution_count": null,
   "id": "0d0e03bb",
   "metadata": {},
   "outputs": [],
   "source": [
    "# Called the \"Connection String\" because it has all the info to connect\n",
    "url = get_db_url('employees')"
   ]
  },
  {
   "cell_type": "code",
   "execution_count": null,
   "id": "357175c6",
   "metadata": {
    "scrolled": true
   },
   "outputs": [],
   "source": [
    "df = pd.read_sql(sql, url)\n",
    "df.head()"
   ]
  },
  {
   "cell_type": "markdown",
   "id": "f5bebe6f",
   "metadata": {},
   "source": [
    "5. Once you have successfully run a query: ",
    "a. Intentionally make a typo in the database url. What kind of error message do you see? ",
    "b. Intentionally make an error in your SQL query. What does the error message look like?"
   ]
  },
  {
   "cell_type": "code",
   "execution_count": null,
   "id": "c396f382",
   "metadata": {},
   "outputs": [],
   "source": [
    "# access denied"
   ]
  },
  {
   "cell_type": "markdown",
   "id": "77dddce5",
   "metadata": {},
   "source": [
    "6. Read the employees and titles tables into two separate DataFrames."
   ]
  },
  {
   "cell_type": "code",
   "execution_count": null,
   "id": "1d44b692",
   "metadata": {},
   "outputs": [],
   "source": [
    "sql_emp = \"\"\"\n",
    "    SELECT * from employees\n",
    "\"\"\""
   ]
  },
  {
   "cell_type": "code",
   "execution_count": null,
   "id": "79ba28ce",
   "metadata": {},
   "outputs": [],
   "source": [
    "df_emp = pd.read_sql(sql_emp, url)\n",
    "df_emp.head()"
   ]
  },
  {
   "cell_type": "code",
   "execution_count": null,
   "id": "f0be95a1",
   "metadata": {},
   "outputs": [],
   "source": [
    "sql_titles = \"\"\"\n",
    "    SELECT * from titles\n",
    "\"\"\""
   ]
  },
  {
   "cell_type": "code",
   "execution_count": null,
   "id": "9e94aa24",
   "metadata": {},
   "outputs": [],
   "source": [
    "df_titles = pd.read_sql(sql_titles, url)\n",
    "df_titles.head()"
   ]
  },
  {
   "cell_type": "markdown",
   "id": "4e408635",
   "metadata": {},
   "source": [
    "7. How many rows and columns do you have in each DataFrame? Is that what you expected?"
   ]
  },
  {
   "cell_type": "code",
   "execution_count": null,
   "id": "5c71b79e",
   "metadata": {},
   "outputs": [],
   "source": [
    "df_emp.shape"
   ]
  },
  {
   "cell_type": "code",
   "execution_count": null,
   "id": "b6bf204e",
   "metadata": {},
   "outputs": [],
   "source": [
    "df_titles.shape"
   ]
  },
  {
   "cell_type": "markdown",
   "id": "ec88ce89",
   "metadata": {},
   "source": [
    "8. Display the summary statistics for each DataFrame."
   ]
  },
  {
   "cell_type": "code",
   "execution_count": null,
   "id": "6654b895",
   "metadata": {},
   "outputs": [],
   "source": [
    "df_emp.describe()"
   ]
  },
  {
   "cell_type": "code",
   "execution_count": null,
   "id": "8a5f09bc",
   "metadata": {},
   "outputs": [],
   "source": [
    "df_emp.info()"
   ]
  },
  {
   "cell_type": "code",
   "execution_count": null,
   "id": "0454c841",
   "metadata": {},
   "outputs": [],
   "source": [
    "df_titles.describe()"
   ]
  },
  {
   "cell_type": "code",
   "execution_count": null,
   "id": "7010b133",
   "metadata": {},
   "outputs": [],
   "source": [
    "df_titles.info()"
   ]
  },
  {
   "cell_type": "markdown",
   "id": "7ed9b164",
   "metadata": {},
   "source": [
    "9. How many unique titles are in the titles DataFrame?"
   ]
  },
  {
   "cell_type": "code",
   "execution_count": null,
   "id": "9d767a56",
   "metadata": {},
   "outputs": [],
   "source": [
    "len(df_titles.title.unique())"
   ]
  },
  {
   "cell_type": "markdown",
   "id": "32ae8607",
   "metadata": {},
   "source": [
    "10. What is the oldest date in the to_date column? "
   ]
  },
  {
   "cell_type": "code",
   "execution_count": null,
   "id": "dc58453c",
   "metadata": {},
   "outputs": [],
   "source": [
    "df_titles.head()"
   ]
  },
  {
   "cell_type": "code",
   "execution_count": null,
   "id": "f4799edf",
   "metadata": {},
   "outputs": [],
   "source": [
    "pd.to_datetime(df_titles['to_date'])"
   ]
  },
  {
   "cell_type": "markdown",
   "id": "1223876e",
   "metadata": {},
   "source": [
    "11. What is the most recent date in the to_date column?"
   ]
  },
  {
   "cell_type": "code",
   "execution_count": null,
   "id": "88e37649",
   "metadata": {},
   "outputs": [],
   "source": []
  },
  {
   "cell_type": "markdown",
   "id": "c70eb00a",
   "metadata": {},
   "source": [
    "# Exercises II\n"
   ]
  },
  {
   "cell_type": "markdown",
   "id": "f94cf36d",
   "metadata": {},
   "source": [
    "## 1. Copy the users and roles DataFrames from the examples above. "
   ]
  },
  {
   "cell_type": "code",
   "execution_count": null,
   "id": "7beb2018",
   "metadata": {},
   "outputs": [],
   "source": [
    "roles = pd.DataFrame({\n",
    "    'id': [1, 2, 3, 4],\n",
    "    'name': ['admin', 'author', 'reviewer', 'commenter']\n",
    "})\n",
    "roles"
   ]
  },
  {
   "cell_type": "code",
   "execution_count": null,
   "id": "1b1b447b",
   "metadata": {},
   "outputs": [],
   "source": [
    "users = pd.DataFrame({\n",
    "    'id': [1, 2, 3, 4, 5, 6],\n",
    "    'name': ['bob', 'joe', 'sally', 'adam', 'jane', 'mike'],\n",
    "    'role_id': [1, 2, 3, 3, np.nan, np.nan]\n",
    "})\n",
    "users"
   ]
  },
  {
   "cell_type": "markdown",
   "id": "ff3e53d5",
   "metadata": {},
   "source": [
    "## 2. What is the result of using a right join on the DataFrames? "
   ]
  },
  {
   "cell_type": "code",
   "execution_count": null,
   "id": "94118495",
   "metadata": {},
   "outputs": [],
   "source": [
    "users.merge(roles, left_on='id', right_on='id', how='right')"
   ]
  },
  {
   "cell_type": "markdown",
   "id": "0d25496e",
   "metadata": {},
   "source": [
    "## 3. What is the result of using an outer join on the DataFrames?"
   ]
  },
  {
   "cell_type": "code",
   "execution_count": null,
   "id": "88ef168b",
   "metadata": {},
   "outputs": [],
   "source": [
    "users.merge(roles, left_on='id', right_on='id', how='outer')"
   ]
  },
  {
   "cell_type": "markdown",
   "id": "028914b8",
   "metadata": {},
   "source": [
    "## 4. What happens if you drop the foreign keys from the DataFrames and try to merge them?"
   ]
  },
  {
   "cell_type": "code",
   "execution_count": null,
   "id": "64476be7",
   "metadata": {},
   "outputs": [],
   "source": [
    "users = users.drop(columns='id')\n",
    "roles = roles.drop(columns='id')"
   ]
  },
  {
   "cell_type": "code",
   "execution_count": null,
   "id": "e7f69b60",
   "metadata": {},
   "outputs": [],
   "source": [
    "users"
   ]
  },
  {
   "cell_type": "code",
   "execution_count": null,
   "id": "a9551546",
   "metadata": {},
   "outputs": [],
   "source": [
    "roles"
   ]
  },
  {
   "cell_type": "code",
   "execution_count": null,
   "id": "2598aa87",
   "metadata": {},
   "outputs": [],
   "source": [
    "users.merge(roles, left_on='name', right_on='name')"
   ]
  },
  {
   "cell_type": "markdown",
   "id": "4a857116",
   "metadata": {},
   "source": [
    "## 5. Load the mpg dataset from PyDataset. "
   ]
  },
  {
   "cell_type": "code",
   "execution_count": null,
   "id": "33388161",
   "metadata": {},
   "outputs": [],
   "source": [
    "from pydataset import data"
   ]
  },
  {
   "cell_type": "markdown",
   "id": "4338b246",
   "metadata": {},
   "source": [
    "## 6. Output and read the documentation for the mpg dataset."
   ]
  },
  {
   "cell_type": "code",
   "execution_count": null,
   "id": "16b153dc",
   "metadata": {},
   "outputs": [],
   "source": [
    "mpg = data('mpg')\n",
    "mpg"
   ]
  },
  {
   "cell_type": "code",
   "execution_count": null,
   "id": "e285a627",
   "metadata": {},
   "outputs": [],
   "source": [
    "data('mpg',show_doc=True)"
   ]
  },
  {
   "cell_type": "markdown",
   "id": "973bc949",
   "metadata": {},
   "source": [
    "## 7. How many rows and columns are in the dataset?"
   ]
  },
  {
   "cell_type": "code",
   "execution_count": null,
   "id": "10950e4a",
   "metadata": {},
   "outputs": [],
   "source": [
    "mpg.shape"
   ]
  },
  {
   "cell_type": "markdown",
   "id": "c030ffdf",
   "metadata": {},
   "source": [
    "## 8. Check out your column names and perform any cleanup you may want on them."
   ]
  },
  {
   "cell_type": "code",
   "execution_count": null,
   "id": "f6fcc075",
   "metadata": {},
   "outputs": [],
   "source": [
    "mpg.columns"
   ]
  },
  {
   "cell_type": "code",
   "execution_count": null,
   "id": "581a5e1d",
   "metadata": {},
   "outputs": [],
   "source": [
    "mpg = mpg.rename(columns=\n",
    "          {'cty':'city',\n",
    "          'hwy':'highway'})\n",
    "mpg"
   ]
  },
  {
   "cell_type": "markdown",
   "id": "4545a678",
   "metadata": {},
   "source": [
    "## 9. Display the summary statistics for the dataset."
   ]
  },
  {
   "cell_type": "code",
   "execution_count": null,
   "id": "a7a659b6",
   "metadata": {},
   "outputs": [],
   "source": [
    "mpg.describe()"
   ]
  },
  {
   "cell_type": "code",
   "execution_count": null,
   "id": "9b5a9af9",
   "metadata": {},
   "outputs": [],
   "source": [
    "mpg.info()"
   ]
  },
  {
   "cell_type": "markdown",
   "id": "f0095d68",
   "metadata": {},
   "source": [
    "## 10. How many different manufacturers are there?"
   ]
  },
  {
   "cell_type": "code",
   "execution_count": null,
   "id": "f6658bec",
   "metadata": {},
   "outputs": [],
   "source": [
    "len(mpg.manufacturer.unique())"
   ]
  },
  {
   "cell_type": "markdown",
   "id": "afd0d971",
   "metadata": {},
   "source": [
    "## 11. How many different models are there?"
   ]
  },
  {
   "cell_type": "code",
   "execution_count": null,
   "id": "3b08d093",
   "metadata": {},
   "outputs": [],
   "source": [
    "len(mpg.model.unique())"
   ]
  },
  {
   "cell_type": "code",
   "execution_count": null,
   "id": "098fd6f1",
   "metadata": {},
   "outputs": [],
   "source": [
    "len(mpg.model.value_counts())"
   ]
  },
  {
   "cell_type": "markdown",
   "id": "e7a58ac4",
   "metadata": {},
   "source": [
    "## 12. Create a column named mileage_difference like you did in the DataFrames exercises; this column should contain the difference between highway and city mileage for each car."
   ]
  },
  {
   "cell_type": "code",
   "execution_count": null,
   "id": "8c0917b5",
   "metadata": {
    "scrolled": true
   },
   "outputs": [],
   "source": [
    "mileage_difference = mpg.highway - mpg.city\n",
    "mileage_difference"
   ]
  },
  {
   "cell_type": "code",
   "execution_count": null,
   "id": "b27082ef",
   "metadata": {},
   "outputs": [],
   "source": [
    "mpg['mileage_difference'] = mileage_difference\n",
    "mpg"
   ]
  },
  {
   "cell_type": "markdown",
   "id": "25e1fca2",
   "metadata": {},
   "source": [
    "## 13. Create a column named average_mileage like you did in the DataFrames exercises; this is the mean of the city and highway mileage."
   ]
  },
  {
   "cell_type": "code",
   "execution_count": null,
   "id": "792ec412",
   "metadata": {},
   "outputs": [],
   "source": [
    "average_mileage = mpg[['city','highway']].mean(axis=1)\n",
    "average_mileage"
   ]
  },
  {
   "cell_type": "code",
   "execution_count": null,
   "id": "031ae176",
   "metadata": {},
   "outputs": [],
   "source": [
    "mpg['average_mileage'] = average_mileage\n",
    "mpg"
   ]
  },
  {
   "cell_type": "markdown",
   "id": "14a70b63",
   "metadata": {},
   "source": [
    "## 14. Create a new column on the mpg dataset named is_automatic that holds boolean values denoting whether the car has an automatic transmission."
   ]
  },
  {
   "cell_type": "code",
   "execution_count": null,
   "id": "26ac7b2f",
   "metadata": {},
   "outputs": [],
   "source": [
    "is_automatic = mpg.trans.str.contains('auto')\n",
    "is_automatic"
   ]
  },
  {
   "cell_type": "code",
   "execution_count": null,
   "id": "1ee9a783",
   "metadata": {},
   "outputs": [],
   "source": [
    "mpg['is_automatic'] = is_automatic\n",
    "mpg"
   ]
  },
  {
   "cell_type": "markdown",
   "id": "1b203766",
   "metadata": {},
   "source": [
    "## 15. Using the mpg dataset, find out which which manufacturer has the best miles per gallon on average?"
   ]
  },
  {
   "cell_type": "code",
   "execution_count": null,
   "id": "16af33f0",
   "metadata": {},
   "outputs": [],
   "source": [
    "mpg[mpg.average_mileage == mpg.average_mileage.max()]"
   ]
  },
  {
   "cell_type": "markdown",
   "id": "63c4ba17",
   "metadata": {},
   "source": [
    "## 16. Do automatic or manual cars have better miles per gallon"
   ]
  },
  {
   "cell_type": "code",
   "execution_count": null,
   "id": "ba87b4fb",
   "metadata": {},
   "outputs": [],
   "source": [
    "mpg_auto = mpg[mpg.trans.str.contains('auto')]\n",
    "mpg_auto"
   ]
  },
  {
   "cell_type": "code",
   "execution_count": null,
   "id": "f89f8183",
   "metadata": {},
   "outputs": [],
   "source": [
    "mpg_auto.average_mileage.mean()"
   ]
  },
  {
   "cell_type": "code",
   "execution_count": null,
   "id": "00b4cc7c",
   "metadata": {},
   "outputs": [],
   "source": [
    "mpg_manual = mpg[mpg.trans.str.contains('manual')]\n",
    "mpg_manual"
   ]
  },
  {
   "cell_type": "code",
   "execution_count": null,
   "id": "4ab16fe7",
   "metadata": {},
   "outputs": [],
   "source": [
    "mpg_manual.average_mileage.mean()"
   ]
  },
  {
   "cell_type": "code",
   "execution_count": null,
   "id": "8bd3602a",
   "metadata": {},
   "outputs": [],
   "source": [
    "# Exercise III"
   ]
  },
  {
   "cell_type": "code",
   "execution_count": null,
   "id": "c1d0668a",
   "metadata": {},
   "outputs": [],
   "source": [
    "chipotle = data('chipotle')\n",
    "chipotle"
   ]
  },
  {
   "cell_type": "markdown",
   "id": "d6c5bc01",
   "metadata": {},
   "source": [
    "## 1. Use your get_db_url function to help you explore the data from the chipotle database. "
   ]
  },
  {
   "cell_type": "code",
   "execution_count": null,
   "id": "d44226de",
   "metadata": {},
   "outputs": [],
   "source": [
    "def get_db_url(db_name):\n",
    "    from env import user, host, password\n",
    "    return f'mysql+pymysql://{user}:{password}@{host}/{db_name}'"
   ]
  },
  {
   "cell_type": "code",
   "execution_count": null,
   "id": "cb60189f",
   "metadata": {},
   "outputs": [],
   "source": [
    "sql = \"\"\"\n",
    "    SELECT * from orders\n",
    "\"\"\""
   ]
  },
  {
   "cell_type": "code",
   "execution_count": null,
   "id": "0f8bc128",
   "metadata": {},
   "outputs": [],
   "source": [
    "url = get_db_url('chipotle')"
   ]
  },
  {
   "cell_type": "code",
   "execution_count": null,
   "id": "1ce1b175",
   "metadata": {},
   "outputs": [],
   "source": [
    "df = pd.read_sql(sql, url)\n",
    "df.head()"
   ]
  },
  {
   "cell_type": "markdown",
   "id": "7f9ecc7b",
   "metadata": {},
   "source": [
    "## 2. What is the total price for each order?"
   ]
  },
  {
   "cell_type": "code",
   "execution_count": null,
   "id": "4d3686ee",
   "metadata": {},
   "outputs": [],
   "source": [
    "df['item_price'] = df.item_price.str.replace('$','').astype('float')\n",
    "df"
   ]
  },
  {
   "cell_type": "code",
   "execution_count": null,
   "id": "6137d3d9",
   "metadata": {},
   "outputs": [],
   "source": [
    "df.info()"
   ]
  },
  {
   "cell_type": "code",
   "execution_count": null,
   "id": "b770b20a",
   "metadata": {
    "scrolled": true
   },
   "outputs": [],
   "source": [
    "df.groupby('order_id').item_price.sum()"
   ]
  },
  {
   "cell_type": "markdown",
   "id": "e82497ca",
   "metadata": {},
   "source": [
    "## 3. What are the most popular 3 items?"
   ]
  },
  {
   "cell_type": "code",
   "execution_count": null,
   "id": "b303a011",
   "metadata": {},
   "outputs": [],
   "source": [
    "df.head()"
   ]
  },
  {
   "cell_type": "code",
   "execution_count": null,
   "id": "2cc8746d",
   "metadata": {},
   "outputs": [],
   "source": [
    "df.groupby('item_name').quantity.sum().nlargest(3)"
   ]
  },
  {
   "cell_type": "markdown",
   "id": "884a3f3f",
   "metadata": {},
   "source": [
    "## 4. Which item has produced the most revenue?"
   ]
  },
  {
   "cell_type": "code",
   "execution_count": null,
   "id": "52c64eac",
   "metadata": {},
   "outputs": [],
   "source": [
    "df.groupby('item_name').item_price.agg('sum').sort_values(ascending=False)"
   ]
  },
  {
   "cell_type": "code",
   "execution_count": null,
   "id": "5ceb3208",
   "metadata": {},
   "outputs": [],
   "source": [
    "df.groupby('item_name').item_price.sum().nlargest(1)"
   ]
  },
  {
   "cell_type": "markdown",
   "id": "5edc4d3c",
   "metadata": {},
   "source": [
    "## 5. Join the employees and titles DataFrames together."
   ]
  },
  {
   "cell_type": "code",
   "execution_count": null,
   "id": "599d93da",
   "metadata": {},
   "outputs": [],
   "source": [
    "def get_db_url(db_name):\n",
    "    from env import user, host, password\n",
    "    return f'mysql+pymysql://{user}:{password}@{host}/{db_name}'"
   ]
  },
  {
   "cell_type": "code",
   "execution_count": null,
   "id": "61f97fe1",
   "metadata": {},
   "outputs": [],
   "source": [
    "url = get_db_url('employees')"
   ]
  },
  {
   "cell_type": "code",
   "execution_count": null,
   "id": "f1c84e14",
   "metadata": {},
   "outputs": [],
   "source": [
    "sql = \"\"\"\n",
    "    SELECT * from employees\n",
    "\"\"\""
   ]
  },
  {
   "cell_type": "code",
   "execution_count": null,
   "id": "f6758592",
   "metadata": {},
   "outputs": [],
   "source": [
    "df_employees = pd.read_sql(sql, url)\n",
    "df_employees.head()"
   ]
  },
  {
   "cell_type": "code",
   "execution_count": null,
   "id": "9a2a571f",
   "metadata": {},
   "outputs": [],
   "source": [
    "sql = \"\"\"\n",
    "    SELECT * from titles\n",
    "\"\"\""
   ]
  },
  {
   "cell_type": "code",
   "execution_count": null,
   "id": "be314182",
   "metadata": {},
   "outputs": [],
   "source": [
    "df_titles = pd.read_sql(sql, url)\n",
    "df_titles.head()"
   ]
  },
  {
   "cell_type": "code",
   "execution_count": null,
   "id": "a9049507",
   "metadata": {},
   "outputs": [],
   "source": [
    "df_emp_titles = df_employees.merge(df_titles, left_on='emp_no', right_on='emp_no')\n",
    "df_emp_titles"
   ]
  },
  {
   "cell_type": "markdown",
   "id": "8789e7d3",
   "metadata": {},
   "source": [
    "## 6. For each title, find the hire date of the employee that was hired most recently with that title?"
   ]
  },
  {
   "cell_type": "code",
   "execution_count": null,
   "id": "e7f69136",
   "metadata": {},
   "outputs": [],
   "source": [
    "df_emp_titles.info()"
   ]
  },
  {
   "cell_type": "code",
   "execution_count": null,
   "id": "4f1231cc",
   "metadata": {},
   "outputs": [],
   "source": [
    "df_emp_titles.hire_date = pd.to_datetime(df_emp_titles.hire_date)"
   ]
  },
  {
   "cell_type": "code",
   "execution_count": null,
   "id": "80902816",
   "metadata": {},
   "outputs": [],
   "source": [
    "df_emp_titles.info()"
   ]
  },
  {
   "cell_type": "code",
   "execution_count": null,
   "id": "7c64e466",
   "metadata": {},
   "outputs": [],
   "source": [
    "df_emp_titles.groupby('title').hire_date.nlargest(1)"
   ]
  },
  {
   "cell_type": "code",
   "execution_count": null,
   "id": "3a97fcce",
   "metadata": {},
   "outputs": [],
   "source": [
    "df_emp_titles.groupby('title').hire_date.max()"
   ]
  },
  {
   "cell_type": "markdown",
   "id": "5c481165",
   "metadata": {},
   "source": [
    "## 7. Write the code necessary to create a cross tabulation of the number of titles by department. (Hint: this will involve a combination of SQL code to pull the necessary data and python/pandas code to perform the manipulations.)"
   ]
  },
  {
   "cell_type": "code",
   "execution_count": null,
   "id": "323b48d8",
   "metadata": {},
   "outputs": [],
   "source": [
    "url = get_db_url('employees')"
   ]
  },
  {
   "cell_type": "code",
   "execution_count": null,
   "id": "7a992e8a",
   "metadata": {},
   "outputs": [],
   "source": [
    "sql = \"\"\"\n",
    "    SELECT * from departments\n",
    "\"\"\""
   ]
  },
  {
   "cell_type": "code",
   "execution_count": null,
   "id": "899c98b1",
   "metadata": {},
   "outputs": [],
   "source": [
    "df_departments = pd.read_sql(sql, url)\n",
    "df_departments.head()"
   ]
  },
  {
   "cell_type": "code",
   "execution_count": null,
   "id": "fc0e955a",
   "metadata": {},
   "outputs": [],
   "source": [
    "sql = \"\"\"\n",
    "    SELECT * from dept_emp\n",
    "\"\"\""
   ]
  },
  {
   "cell_type": "code",
   "execution_count": null,
   "id": "b27da8d1",
   "metadata": {},
   "outputs": [],
   "source": [
    "df_dept_emp = pd.read_sql(sql, url)\n",
    "df_dept_emp.head()"
   ]
  },
  {
   "cell_type": "code",
   "execution_count": null,
   "id": "e847ca1b",
   "metadata": {},
   "outputs": [],
   "source": [
    "df_emp_titles"
   ]
  },
  {
   "cell_type": "code",
   "execution_count": null,
   "id": "e49dd3b4",
   "metadata": {},
   "outputs": [],
   "source": [
    "df_e_t_de = df_emp_titles.merge(df_dept_emp, left_on='emp_no', right_on='emp_no')\n",
    "df_e_t_de"
   ]
  },
  {
   "cell_type": "code",
   "execution_count": null,
   "id": "f2e0ddbd",
   "metadata": {},
   "outputs": [],
   "source": [
    "df_all = df_e_t_de.merge(df_departments, left_on='dept_no', right_on='dept_no')\n",
    "df_all.head()"
   ]
  },
  {
   "cell_type": "code",
   "execution_count": null,
   "id": "ddea81fa",
   "metadata": {},
   "outputs": [],
   "source": [
    "df_all_tab = pd.crosstab(df_all.dept_name, df_all.title, margins=True).T\n",
    "df_all_tab "
   ]
  },
  {
   "cell_type": "code",
   "execution_count": null,
   "id": "5c649549",
   "metadata": {},
   "outputs": [],
   "source": [
    "df_all.groupby('dept_name').title.count()"
   ]
  }
 ],
 "metadata": {
  "kernelspec": {
   "display_name": "Python 3",
   "language": "python",
   "name": "python3"
  },
  "language_info": {
   "codemirror_mode": {
    "name": "ipython",
    "version": 3
   },
   "file_extension": ".py",
   "mimetype": "text/x-python",
   "name": "python",
   "nbconvert_exporter": "python",
   "pygments_lexer": "ipython3",
   "version": "3.8.8"
  }
 },
 "nbformat": 4,
 "nbformat_minor": 5
}
