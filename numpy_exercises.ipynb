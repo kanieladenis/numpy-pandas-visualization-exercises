{
 "cells": [
  {
   "cell_type": "code",
   "execution_count": 2,
   "id": "52b1a02e",
   "metadata": {},
   "outputs": [],
   "source": [
    "import numpy as np"
   ]
  },
  {
   "cell_type": "code",
   "execution_count": 41,
   "id": "dd596d6c",
   "metadata": {},
   "outputs": [],
   "source": [
    "a = np.array([4, 10, 12, 23, -2, -1, 0, 0, 0, -6, 3, -7])"
   ]
  },
  {
   "cell_type": "code",
   "execution_count": 42,
   "id": "eb169187",
   "metadata": {},
   "outputs": [
    {
     "data": {
      "text/plain": [
       "array([ 4, 10, 12, 23, -2, -1,  0,  0,  0, -6,  3, -7])"
      ]
     },
     "execution_count": 42,
     "metadata": {},
     "output_type": "execute_result"
    }
   ],
   "source": [
    "a"
   ]
  },
  {
   "cell_type": "markdown",
   "id": "402d8c4c",
   "metadata": {},
   "source": [
    "## 1) How many negative numbers are there?"
   ]
  },
  {
   "cell_type": "code",
   "execution_count": 5,
   "id": "8f38d269",
   "metadata": {},
   "outputs": [
    {
     "data": {
      "text/plain": [
       "array([-2, -1, -6, -7])"
      ]
     },
     "execution_count": 5,
     "metadata": {},
     "output_type": "execute_result"
    }
   ],
   "source": [
    "neg_num = a[a < 0]\n",
    "neg_num"
   ]
  },
  {
   "cell_type": "code",
   "execution_count": 6,
   "id": "0c423309",
   "metadata": {},
   "outputs": [
    {
     "data": {
      "text/plain": [
       "4"
      ]
     },
     "execution_count": 6,
     "metadata": {},
     "output_type": "execute_result"
    }
   ],
   "source": [
    "len(neg_num)"
   ]
  },
  {
   "cell_type": "markdown",
   "id": "37801729",
   "metadata": {},
   "source": [
    "## 2) How many positive numbers are there?"
   ]
  },
  {
   "cell_type": "code",
   "execution_count": 7,
   "id": "bf08c444",
   "metadata": {},
   "outputs": [
    {
     "data": {
      "text/plain": [
       "array([ 4, 10, 12, 23,  3])"
      ]
     },
     "execution_count": 7,
     "metadata": {},
     "output_type": "execute_result"
    }
   ],
   "source": [
    "pos_num = a[a > 0]\n",
    "pos_num"
   ]
  },
  {
   "cell_type": "code",
   "execution_count": 8,
   "id": "9a33ee1b",
   "metadata": {},
   "outputs": [
    {
     "data": {
      "text/plain": [
       "5"
      ]
     },
     "execution_count": 8,
     "metadata": {},
     "output_type": "execute_result"
    }
   ],
   "source": [
    "len(pos_num)"
   ]
  },
  {
   "cell_type": "markdown",
   "id": "3779a0d6",
   "metadata": {},
   "source": [
    "## 3) How many even positive numbers are there?"
   ]
  },
  {
   "cell_type": "code",
   "execution_count": 9,
   "id": "b2d15716",
   "metadata": {},
   "outputs": [
    {
     "data": {
      "text/plain": [
       "array([ 4, 10, 12, -2,  0,  0,  0, -6])"
      ]
     },
     "execution_count": 9,
     "metadata": {},
     "output_type": "execute_result"
    }
   ],
   "source": [
    "even_num = a[a % 2 == 0]\n",
    "even_num"
   ]
  },
  {
   "cell_type": "code",
   "execution_count": 17,
   "id": "96c750f1",
   "metadata": {},
   "outputs": [
    {
     "data": {
      "text/plain": [
       "array([ 4, 10, 12])"
      ]
     },
     "execution_count": 17,
     "metadata": {},
     "output_type": "execute_result"
    }
   ],
   "source": [
    "even_pos_num = a[(a % 2 == 0) & (a > 0)]\n",
    "even_pos_num"
   ]
  },
  {
   "cell_type": "code",
   "execution_count": 18,
   "id": "49186751",
   "metadata": {},
   "outputs": [
    {
     "data": {
      "text/plain": [
       "3"
      ]
     },
     "execution_count": 18,
     "metadata": {},
     "output_type": "execute_result"
    }
   ],
   "source": [
    "len(even_pos_num)"
   ]
  },
  {
   "cell_type": "markdown",
   "id": "0db9b45d",
   "metadata": {},
   "source": [
    "## 4) If you were to add 3 to each data point, how many positive numbers would there be?"
   ]
  },
  {
   "cell_type": "code",
   "execution_count": 19,
   "id": "2d2830c1",
   "metadata": {},
   "outputs": [
    {
     "data": {
      "text/plain": [
       "array([ 7, 13, 15, 26,  1,  2,  3,  3,  3, -3,  6, -4])"
      ]
     },
     "execution_count": 19,
     "metadata": {},
     "output_type": "execute_result"
    }
   ],
   "source": [
    "plus_3 = a + 3\n",
    "plus_3"
   ]
  },
  {
   "cell_type": "code",
   "execution_count": 22,
   "id": "9a21c8b2",
   "metadata": {},
   "outputs": [
    {
     "data": {
      "text/plain": [
       "array([ 7, 13, 15, 26,  1,  2,  3,  3,  3,  6])"
      ]
     },
     "execution_count": 22,
     "metadata": {},
     "output_type": "execute_result"
    }
   ],
   "source": [
    "pos_plus_3 = plus_3[plus_3 > 0]\n",
    "pos_plus_3"
   ]
  },
  {
   "cell_type": "code",
   "execution_count": 23,
   "id": "be4ac4dd",
   "metadata": {},
   "outputs": [
    {
     "data": {
      "text/plain": [
       "10"
      ]
     },
     "execution_count": 23,
     "metadata": {},
     "output_type": "execute_result"
    }
   ],
   "source": [
    "len(pos_plus_3)"
   ]
  },
  {
   "cell_type": "markdown",
   "id": "60d69850",
   "metadata": {},
   "source": [
    "## 5) If you squared each number, what would the new mean and standard deviation be?"
   ]
  },
  {
   "cell_type": "code",
   "execution_count": 25,
   "id": "78bf9dea",
   "metadata": {},
   "outputs": [
    {
     "data": {
      "text/plain": [
       "array([ 16, 100, 144, 529,   4,   1,   0,   0,   0,  36,   9,  49])"
      ]
     },
     "execution_count": 25,
     "metadata": {},
     "output_type": "execute_result"
    }
   ],
   "source": [
    "asquared = a ** 2\n",
    "asquared"
   ]
  },
  {
   "cell_type": "code",
   "execution_count": 26,
   "id": "9d2fa0ce",
   "metadata": {},
   "outputs": [
    {
     "data": {
      "text/plain": [
       "74.0"
      ]
     },
     "execution_count": 26,
     "metadata": {},
     "output_type": "execute_result"
    }
   ],
   "source": [
    "mean_asquared = np.mean(asquared)\n",
    "mean_asquared"
   ]
  },
  {
   "cell_type": "code",
   "execution_count": 27,
   "id": "1c371d72",
   "metadata": {},
   "outputs": [
    {
     "data": {
      "text/plain": [
       "144.0243035046516"
      ]
     },
     "execution_count": 27,
     "metadata": {},
     "output_type": "execute_result"
    }
   ],
   "source": [
    "std_asquared = np.std(asquared)\n",
    "std_asquared"
   ]
  },
  {
   "cell_type": "markdown",
   "id": "1816e9de",
   "metadata": {},
   "source": [
    "## 6) A common statistical operation on a dataset is centering. This means to adjust the data such that the mean of the data is 0. This is done by subtracting the mean from each data point. Center the data set. See this link for more on centering."
   ]
  },
  {
   "cell_type": "code",
   "execution_count": 28,
   "id": "ee06f13e",
   "metadata": {},
   "outputs": [
    {
     "data": {
      "text/plain": [
       "array([-58.,  26.,  70., 455., -70., -73., -74., -74., -74., -38., -65.,\n",
       "       -25.])"
      ]
     },
     "execution_count": 28,
     "metadata": {},
     "output_type": "execute_result"
    }
   ],
   "source": [
    "center_asquared = asquared - mean_asquared\n",
    "center_asquared"
   ]
  },
  {
   "cell_type": "code",
   "execution_count": 30,
   "id": "0040816f",
   "metadata": {},
   "outputs": [
    {
     "data": {
      "text/plain": [
       "0.0"
      ]
     },
     "execution_count": 30,
     "metadata": {},
     "output_type": "execute_result"
    }
   ],
   "source": [
    "mean_center_asquared = np.mean(center_asquared)\n",
    "mean_center_asquared"
   ]
  },
  {
   "cell_type": "markdown",
   "id": "5686d46d",
   "metadata": {},
   "source": [
    "## 7) Calculate the z-score for each data point. Recall that the z-score is given by:\n",
    "\n",
    "Z=(x−μ)/σ\n"
   ]
  },
  {
   "cell_type": "code",
   "execution_count": 31,
   "id": "b1069ebe",
   "metadata": {},
   "outputs": [
    {
     "data": {
      "text/plain": [
       "3.0"
      ]
     },
     "execution_count": 31,
     "metadata": {},
     "output_type": "execute_result"
    }
   ],
   "source": [
    "mean_a = np.mean(a)\n",
    "mean_a"
   ]
  },
  {
   "cell_type": "code",
   "execution_count": 32,
   "id": "08f011e0",
   "metadata": {},
   "outputs": [
    {
     "data": {
      "text/plain": [
       "8.06225774829855"
      ]
     },
     "execution_count": 32,
     "metadata": {},
     "output_type": "execute_result"
    }
   ],
   "source": [
    "std_a = np.std(a)\n",
    "std_a"
   ]
  },
  {
   "cell_type": "code",
   "execution_count": 33,
   "id": "92d13bd8",
   "metadata": {},
   "outputs": [
    {
     "data": {
      "text/plain": [
       "array([ 0.12403473,  0.86824314,  1.11631261,  2.48069469, -0.62017367,\n",
       "       -0.49613894, -0.3721042 , -0.3721042 , -0.3721042 , -1.11631261,\n",
       "        0.        , -1.24034735])"
      ]
     },
     "execution_count": 33,
     "metadata": {},
     "output_type": "execute_result"
    }
   ],
   "source": [
    "z_score_a = (a - mean_a)/std_a\n",
    "z_score_a"
   ]
  },
  {
   "cell_type": "markdown",
   "id": "7b0a162c",
   "metadata": {},
   "source": [
    "## 8) Copy the setup and exercise directions from More Numpy Practice into your numpy_exercises.py and add your solutions."
   ]
  },
  {
   "cell_type": "code",
   "execution_count": 44,
   "id": "cf40d569",
   "metadata": {},
   "outputs": [],
   "source": [
    "a = [1, 2, 3, 4, 5, 6, 7, 8, 9, 10]"
   ]
  },
  {
   "cell_type": "code",
   "execution_count": 45,
   "id": "512b0002",
   "metadata": {},
   "outputs": [
    {
     "data": {
      "text/plain": [
       "array([ 1,  2,  3,  4,  5,  6,  7,  8,  9, 10])"
      ]
     },
     "execution_count": 45,
     "metadata": {},
     "output_type": "execute_result"
    }
   ],
   "source": [
    "a = np.array(a)\n",
    "a"
   ]
  },
  {
   "cell_type": "markdown",
   "id": "a8373583",
   "metadata": {},
   "source": [
    "# Exercise 1 - Make a variable called sum_of_a to hold the sum of all the numbers in above list"
   ]
  },
  {
   "cell_type": "code",
   "execution_count": 60,
   "id": "b4a7110a",
   "metadata": {},
   "outputs": [
    {
     "data": {
      "text/plain": [
       "55"
      ]
     },
     "execution_count": 60,
     "metadata": {},
     "output_type": "execute_result"
    }
   ],
   "source": [
    "sum_of_a = np.sum(a)\n",
    "sum_of_a"
   ]
  },
  {
   "cell_type": "markdown",
   "id": "7aeeb53e",
   "metadata": {},
   "source": [
    "# Exercise 2 - Make a variable named min_of_a to hold the minimum of all the numbers in the above list"
   ]
  },
  {
   "cell_type": "code",
   "execution_count": 61,
   "id": "e4007953",
   "metadata": {},
   "outputs": [
    {
     "data": {
      "text/plain": [
       "1"
      ]
     },
     "execution_count": 61,
     "metadata": {},
     "output_type": "execute_result"
    }
   ],
   "source": [
    "min_of_a = np.min(a)\n",
    "min_of_a"
   ]
  },
  {
   "cell_type": "markdown",
   "id": "2ef1dc72",
   "metadata": {},
   "source": [
    "# Exercise 3 - Make a variable named max_of_a to hold the max number of all the numbers in the above list\n"
   ]
  },
  {
   "cell_type": "code",
   "execution_count": 62,
   "id": "236d0b25",
   "metadata": {},
   "outputs": [
    {
     "data": {
      "text/plain": [
       "10"
      ]
     },
     "execution_count": 62,
     "metadata": {},
     "output_type": "execute_result"
    }
   ],
   "source": [
    "max_of_a = np.max(a)\n",
    "max_of_a"
   ]
  },
  {
   "cell_type": "markdown",
   "id": "b5d4e16c",
   "metadata": {},
   "source": [
    "# Exercise 4 - Make a variable named mean_of_a to hold the average of all the numbers in the above list\n"
   ]
  },
  {
   "cell_type": "code",
   "execution_count": 63,
   "id": "32217861",
   "metadata": {},
   "outputs": [
    {
     "data": {
      "text/plain": [
       "5.5"
      ]
     },
     "execution_count": 63,
     "metadata": {},
     "output_type": "execute_result"
    }
   ],
   "source": [
    "mean_of_a = np.mean(a)\n",
    "mean_of_a"
   ]
  },
  {
   "cell_type": "markdown",
   "id": "4bb3388c",
   "metadata": {},
   "source": [
    "# Exercise 5 - Make a variable named product_of_a to hold the product of multiplying all the numbers in the above list together\n"
   ]
  },
  {
   "cell_type": "code",
   "execution_count": 64,
   "id": "6274815f",
   "metadata": {},
   "outputs": [
    {
     "data": {
      "text/plain": [
       "3628800"
      ]
     },
     "execution_count": 64,
     "metadata": {},
     "output_type": "execute_result"
    }
   ],
   "source": [
    "product_of_a = np.product(a)\n",
    "product_of_a"
   ]
  },
  {
   "cell_type": "markdown",
   "id": "2a499948",
   "metadata": {},
   "source": [
    "# Exercise 6 - Make a variable named squares_of_a. It should hold each number in a squared like [1, 4, 9, 16, 25...]\n"
   ]
  },
  {
   "cell_type": "code",
   "execution_count": 65,
   "id": "295325fd",
   "metadata": {},
   "outputs": [
    {
     "data": {
      "text/plain": [
       "array([  1,   4,   9,  16,  25,  36,  49,  64,  81, 100])"
      ]
     },
     "execution_count": 65,
     "metadata": {},
     "output_type": "execute_result"
    }
   ],
   "source": [
    "squares_of_a = np.square(a)\n",
    "squares_of_a"
   ]
  },
  {
   "cell_type": "markdown",
   "id": "d3254300",
   "metadata": {},
   "source": [
    "# Exercise 7 - Make a variable named odds_in_a. It should hold only the odd numbers\n"
   ]
  },
  {
   "cell_type": "code",
   "execution_count": 66,
   "id": "415ee6df",
   "metadata": {},
   "outputs": [
    {
     "data": {
      "text/plain": [
       "array([1, 3, 5, 7, 9])"
      ]
     },
     "execution_count": 66,
     "metadata": {},
     "output_type": "execute_result"
    }
   ],
   "source": [
    "odd_in_a = a[a % 2 == 1]\n",
    "odd_in_a"
   ]
  },
  {
   "cell_type": "markdown",
   "id": "be346c6f",
   "metadata": {},
   "source": [
    "# Exercise 8 - Make a variable named evens_in_a. It should hold only the evens.\n"
   ]
  },
  {
   "cell_type": "code",
   "execution_count": 67,
   "id": "98e1d0a3",
   "metadata": {},
   "outputs": [
    {
     "data": {
      "text/plain": [
       "array([ 2,  4,  6,  8, 10])"
      ]
     },
     "execution_count": 67,
     "metadata": {},
     "output_type": "execute_result"
    }
   ],
   "source": [
    "evens_in_a = a[a % 2 == 0]\n",
    "evens_in_a"
   ]
  },
  {
   "cell_type": "markdown",
   "id": "496b180d",
   "metadata": {},
   "source": [
    "## What about life in two dimensions? A list of lists is matrix, a table, a spreadsheet, a chessboard...\n",
    "## Setup 2: Consider what it would take to find the sum, min, max, average, sum, product, and list of squares for this list of two lists."
   ]
  },
  {
   "cell_type": "code",
   "execution_count": 68,
   "id": "9e84d6e2",
   "metadata": {},
   "outputs": [
    {
     "data": {
      "text/plain": [
       "[[3, 4, 5], [6, 7, 8]]"
      ]
     },
     "execution_count": 68,
     "metadata": {},
     "output_type": "execute_result"
    }
   ],
   "source": [
    "b = [\n",
    "    [3, 4, 5],\n",
    "    [6, 7, 8]\n",
    "]\n",
    "b"
   ]
  },
  {
   "cell_type": "markdown",
   "id": "b5cd2167",
   "metadata": {},
   "source": [
    "# Exercise 1 - refactor the following to use numpy. Use sum_of_b as the variable. **Hint, you'll first need to make sure that the \"b\" variable is a numpy array**\n",
    "sum_of_b = 0  \n",
    "for row in b:  \n",
    "sum_of_b += sum(row)  "
   ]
  },
  {
   "cell_type": "code",
   "execution_count": 69,
   "id": "69cf7bc6",
   "metadata": {},
   "outputs": [
    {
     "data": {
      "text/plain": [
       "array([[3, 4, 5],\n",
       "       [6, 7, 8]])"
      ]
     },
     "execution_count": 69,
     "metadata": {},
     "output_type": "execute_result"
    }
   ],
   "source": [
    "b = np.array(b)\n",
    "b"
   ]
  },
  {
   "cell_type": "code",
   "execution_count": 79,
   "id": "a3faeb95",
   "metadata": {},
   "outputs": [
    {
     "data": {
      "text/plain": [
       "33"
      ]
     },
     "execution_count": 79,
     "metadata": {},
     "output_type": "execute_result"
    }
   ],
   "source": [
    "sum_of_b = np.sum(b)\n",
    "sum_of_b"
   ]
  },
  {
   "cell_type": "markdown",
   "id": "6c31205b",
   "metadata": {},
   "source": [
    "# Exercise 2 - refactor the following to use numpy. \n",
    "min_of_b = min(b[0]) if min(b[0]) <= min(b[1]) else min(b[1])  "
   ]
  },
  {
   "cell_type": "code",
   "execution_count": 80,
   "id": "cf702162",
   "metadata": {},
   "outputs": [
    {
     "data": {
      "text/plain": [
       "3"
      ]
     },
     "execution_count": 80,
     "metadata": {},
     "output_type": "execute_result"
    }
   ],
   "source": [
    "min_of_b = np.min(b)\n",
    "min_of_b"
   ]
  },
  {
   "cell_type": "markdown",
   "id": "b2335aeb",
   "metadata": {},
   "source": [
    "# Exercise 3 - refactor the following maximum calculation to find the answer with numpy.\n",
    "max_of_b = max(b[0]) if max(b[0]) >= max(b[1]) else max(b[1])"
   ]
  },
  {
   "cell_type": "code",
   "execution_count": 81,
   "id": "77e7fa3c",
   "metadata": {},
   "outputs": [
    {
     "data": {
      "text/plain": [
       "8"
      ]
     },
     "execution_count": 81,
     "metadata": {},
     "output_type": "execute_result"
    }
   ],
   "source": [
    "max_of_b = np.max(b)\n",
    "max_of_b"
   ]
  },
  {
   "cell_type": "markdown",
   "id": "af31135e",
   "metadata": {},
   "source": [
    "# Exercise 4 - refactor the following using numpy to find the mean of b\n",
    "mean_of_b = (sum(b[0]) + sum(b[1])) / (len(b[0]) + len(b[1]))"
   ]
  },
  {
   "cell_type": "code",
   "execution_count": 82,
   "id": "10e3c1c5",
   "metadata": {},
   "outputs": [
    {
     "data": {
      "text/plain": [
       "5.5"
      ]
     },
     "execution_count": 82,
     "metadata": {},
     "output_type": "execute_result"
    }
   ],
   "source": [
    "mean_of_b = np.mean(b)\n",
    "mean_of_b"
   ]
  },
  {
   "cell_type": "markdown",
   "id": "51ceefb7",
   "metadata": {},
   "source": [
    "# Exercise 5 - refactor the following to use numpy for calculating the product of all numbers multiplied together.\n",
    "product_of_b = 1  \n",
    "for row in b:  \n",
    "for number in row:  \n",
    "product_of_b *= number  "
   ]
  },
  {
   "cell_type": "code",
   "execution_count": 83,
   "id": "80503e21",
   "metadata": {},
   "outputs": [
    {
     "data": {
      "text/plain": [
       "20160"
      ]
     },
     "execution_count": 83,
     "metadata": {},
     "output_type": "execute_result"
    }
   ],
   "source": [
    "product_of_b = np.product(b)\n",
    "product_of_b"
   ]
  },
  {
   "cell_type": "markdown",
   "id": "9616074e",
   "metadata": {},
   "source": [
    "# Exercise 6 - refactor the following to use numpy to find the list of squares \n",
    "squares_of_b = []  \n",
    "for row in b:  \n",
    "for number in row:  \n",
    "squares_of_b.append(number**2)"
   ]
  },
  {
   "cell_type": "code",
   "execution_count": 84,
   "id": "6e2701dc",
   "metadata": {},
   "outputs": [
    {
     "data": {
      "text/plain": [
       "array([[ 9, 16, 25],\n",
       "       [36, 49, 64]])"
      ]
     },
     "execution_count": 84,
     "metadata": {},
     "output_type": "execute_result"
    }
   ],
   "source": [
    "squares_of_b = np.square(b)\n",
    "squares_of_b"
   ]
  },
  {
   "cell_type": "markdown",
   "id": "558df422",
   "metadata": {},
   "source": [
    "# Exercise 7 - refactor using numpy to determine the odds_in_b\n",
    "odds_in_b = []\n",
    "for row in b:\n",
    "for number in row:\n",
    "if(number % 2 != 0):\n",
    "odds_in_b.append(number)"
   ]
  },
  {
   "cell_type": "code",
   "execution_count": 85,
   "id": "2ce26f13",
   "metadata": {},
   "outputs": [
    {
     "data": {
      "text/plain": [
       "array([3, 5, 7])"
      ]
     },
     "execution_count": 85,
     "metadata": {},
     "output_type": "execute_result"
    }
   ],
   "source": [
    "odds_in_b = b[b % 2 == 1]\n",
    "odds_in_b"
   ]
  },
  {
   "cell_type": "markdown",
   "id": "3a2e46cf",
   "metadata": {},
   "source": [
    "# Exercise 8 - refactor the following to use numpy to filter only the even numbers\n",
    "evens_in_b = []\n",
    "for row in b:\n",
    "for number in row:\n",
    "if(number % 2 == 0):\n",
    "evens_in_b.append(number)"
   ]
  },
  {
   "cell_type": "code",
   "execution_count": 86,
   "id": "c76c7ade",
   "metadata": {},
   "outputs": [
    {
     "data": {
      "text/plain": [
       "array([4, 6, 8])"
      ]
     },
     "execution_count": 86,
     "metadata": {},
     "output_type": "execute_result"
    }
   ],
   "source": [
    "evens_in_b = b[b % 2 == 0]\n",
    "evens_in_b"
   ]
  },
  {
   "cell_type": "markdown",
   "id": "1e4935bf",
   "metadata": {},
   "source": [
    "# Exercise 9 - print out the shape of the array b."
   ]
  },
  {
   "cell_type": "code",
   "execution_count": 87,
   "id": "d447c4e6",
   "metadata": {},
   "outputs": [
    {
     "name": "stdout",
     "output_type": "stream",
     "text": [
      "(2, 3)\n"
     ]
    }
   ],
   "source": [
    "print(b.shape)"
   ]
  },
  {
   "cell_type": "markdown",
   "id": "47dcbf6d",
   "metadata": {},
   "source": [
    "# Exercise 10 - transpose the array b.\n"
   ]
  },
  {
   "cell_type": "code",
   "execution_count": 88,
   "id": "65f887e2",
   "metadata": {},
   "outputs": [
    {
     "data": {
      "text/plain": [
       "array([[3, 6],\n",
       "       [4, 7],\n",
       "       [5, 8]])"
      ]
     },
     "execution_count": 88,
     "metadata": {},
     "output_type": "execute_result"
    }
   ],
   "source": [
    "transpose_b = np.transpose(b)\n",
    "transpose_b"
   ]
  },
  {
   "cell_type": "markdown",
   "id": "42c8ec29",
   "metadata": {},
   "source": [
    "# Exercise 11 - reshape the array b to be a single list of 6 numbers. (1 x 6)\n"
   ]
  },
  {
   "cell_type": "code",
   "execution_count": 108,
   "id": "8072779c",
   "metadata": {},
   "outputs": [
    {
     "data": {
      "text/plain": [
       "array([3, 4, 5, 6, 7, 8])"
      ]
     },
     "execution_count": 108,
     "metadata": {},
     "output_type": "execute_result"
    }
   ],
   "source": [
    "reshape_b = np.reshape(b, 6)\n",
    "reshape_b"
   ]
  },
  {
   "cell_type": "markdown",
   "id": "20e7402e",
   "metadata": {},
   "source": [
    "# Exercise 12 - reshape the array b to be a list of 6 lists, each containing only 1 number (6 x 1)\n"
   ]
  },
  {
   "cell_type": "code",
   "execution_count": 109,
   "id": "00a10316",
   "metadata": {},
   "outputs": [
    {
     "data": {
      "text/plain": [
       "array([[3],\n",
       "       [4],\n",
       "       [5],\n",
       "       [6],\n",
       "       [7],\n",
       "       [8]])"
      ]
     },
     "execution_count": 109,
     "metadata": {},
     "output_type": "execute_result"
    }
   ],
   "source": [
    "reshape_b = np.reshape(b, (6,1))\n",
    "reshape_b"
   ]
  },
  {
   "cell_type": "code",
   "execution_count": 110,
   "id": "aba7168e",
   "metadata": {},
   "outputs": [],
   "source": [
    "c = [\n",
    "    [1, 2, 3],\n",
    "    [4, 5, 6],\n",
    "    [7, 8, 9]\n",
    "]"
   ]
  },
  {
   "cell_type": "code",
   "execution_count": 112,
   "id": "be10cfdb",
   "metadata": {},
   "outputs": [
    {
     "data": {
      "text/plain": [
       "array([[1, 2, 3],\n",
       "       [4, 5, 6],\n",
       "       [7, 8, 9]])"
      ]
     },
     "execution_count": 112,
     "metadata": {},
     "output_type": "execute_result"
    }
   ],
   "source": [
    "c = np.array(c)\n",
    "c"
   ]
  },
  {
   "cell_type": "markdown",
   "id": "a9304237",
   "metadata": {},
   "source": [
    "# HINT, you'll first need to make sure that the \"c\" variable is a numpy array prior to using numpy array methods.\n",
    "# Exercise 1 - Find the min, max, sum, and product of c."
   ]
  },
  {
   "cell_type": "code",
   "execution_count": 114,
   "id": "7eade792",
   "metadata": {},
   "outputs": [
    {
     "data": {
      "text/plain": [
       "1"
      ]
     },
     "execution_count": 114,
     "metadata": {},
     "output_type": "execute_result"
    }
   ],
   "source": [
    "min_c = np.min(c)\n",
    "min_c"
   ]
  },
  {
   "cell_type": "code",
   "execution_count": 116,
   "id": "1093ef6e",
   "metadata": {},
   "outputs": [
    {
     "data": {
      "text/plain": [
       "9"
      ]
     },
     "execution_count": 116,
     "metadata": {},
     "output_type": "execute_result"
    }
   ],
   "source": [
    "max_c = c.max()\n",
    "max_c"
   ]
  },
  {
   "cell_type": "code",
   "execution_count": 117,
   "id": "32972f35",
   "metadata": {},
   "outputs": [
    {
     "data": {
      "text/plain": [
       "45"
      ]
     },
     "execution_count": 117,
     "metadata": {},
     "output_type": "execute_result"
    }
   ],
   "source": [
    "sum_c = c.sum()\n",
    "sum_c"
   ]
  },
  {
   "cell_type": "code",
   "execution_count": 119,
   "id": "bbb5f93d",
   "metadata": {},
   "outputs": [
    {
     "data": {
      "text/plain": [
       "362880"
      ]
     },
     "execution_count": 119,
     "metadata": {},
     "output_type": "execute_result"
    }
   ],
   "source": [
    "prod_c = np.product(c)\n",
    "prod_c"
   ]
  },
  {
   "cell_type": "markdown",
   "id": "aa87a5c4",
   "metadata": {},
   "source": [
    "# Exercise 2 - Determine the standard deviation of c.\n"
   ]
  },
  {
   "cell_type": "code",
   "execution_count": 122,
   "id": "73c97adf",
   "metadata": {},
   "outputs": [
    {
     "data": {
      "text/plain": [
       "2.581988897471611"
      ]
     },
     "execution_count": 122,
     "metadata": {},
     "output_type": "execute_result"
    }
   ],
   "source": [
    "std_c = c.std()\n",
    "std_c"
   ]
  },
  {
   "cell_type": "markdown",
   "id": "156903a9",
   "metadata": {},
   "source": [
    "# Exercise 3 - Determine the variance of c.\n"
   ]
  },
  {
   "cell_type": "code",
   "execution_count": 123,
   "id": "0adff200",
   "metadata": {},
   "outputs": [
    {
     "data": {
      "text/plain": [
       "6.666666666666667"
      ]
     },
     "execution_count": 123,
     "metadata": {},
     "output_type": "execute_result"
    }
   ],
   "source": [
    "var_c = c.var()\n",
    "var_c"
   ]
  },
  {
   "cell_type": "markdown",
   "id": "36cefdce",
   "metadata": {},
   "source": [
    "# Exercise 4 - Print out the shape of the array c\n"
   ]
  },
  {
   "cell_type": "code",
   "execution_count": 124,
   "id": "59716cc2",
   "metadata": {},
   "outputs": [
    {
     "name": "stdout",
     "output_type": "stream",
     "text": [
      "(3, 3)\n"
     ]
    }
   ],
   "source": [
    "print(c.shape)"
   ]
  },
  {
   "cell_type": "markdown",
   "id": "013d6393",
   "metadata": {},
   "source": [
    "# Exercise 5 - Transpose c and print out transposed result.\n"
   ]
  },
  {
   "cell_type": "code",
   "execution_count": 125,
   "id": "a5804f1f",
   "metadata": {},
   "outputs": [
    {
     "data": {
      "text/plain": [
       "array([[1, 4, 7],\n",
       "       [2, 5, 8],\n",
       "       [3, 6, 9]])"
      ]
     },
     "execution_count": 125,
     "metadata": {},
     "output_type": "execute_result"
    }
   ],
   "source": [
    "transpose_c = c.transpose()\n",
    "transpose_c"
   ]
  },
  {
   "cell_type": "markdown",
   "id": "fc5a54e7",
   "metadata": {},
   "source": [
    "# Exercise 6 - Get the dot product of the array c with c. \n"
   ]
  },
  {
   "cell_type": "code",
   "execution_count": 126,
   "id": "d0fc6302",
   "metadata": {},
   "outputs": [
    {
     "data": {
      "text/plain": [
       "array([[ 30,  36,  42],\n",
       "       [ 66,  81,  96],\n",
       "       [102, 126, 150]])"
      ]
     },
     "execution_count": 126,
     "metadata": {},
     "output_type": "execute_result"
    }
   ],
   "source": [
    "dot_c = np.dot(c,c)\n",
    "dot_c"
   ]
  },
  {
   "cell_type": "markdown",
   "id": "4d0cf94a",
   "metadata": {},
   "source": [
    "# Exercise 7 - Write the code necessary to sum up the result of c times c transposed. Answer should be 261\n"
   ]
  },
  {
   "cell_type": "code",
   "execution_count": 128,
   "id": "f1700cc6",
   "metadata": {},
   "outputs": [
    {
     "data": {
      "text/plain": [
       "729"
      ]
     },
     "execution_count": 128,
     "metadata": {},
     "output_type": "execute_result"
    }
   ],
   "source": [
    "sum_dot_c = np.sum(dot_c)\n",
    "sum_dot_c"
   ]
  },
  {
   "cell_type": "markdown",
   "id": "5717bfbd",
   "metadata": {},
   "source": [
    "# Exercise 8 - Write the code necessary to determine the product of c times c transposed. Answer should be 131681894400.\n"
   ]
  },
  {
   "cell_type": "code",
   "execution_count": null,
   "id": "000c850d",
   "metadata": {},
   "outputs": [],
   "source": []
  }
 ],
 "metadata": {
  "kernelspec": {
   "display_name": "Python 3",
   "language": "python",
   "name": "python3"
  },
  "language_info": {
   "codemirror_mode": {
    "name": "ipython",
    "version": 3
   },
   "file_extension": ".py",
   "mimetype": "text/x-python",
   "name": "python",
   "nbconvert_exporter": "python",
   "pygments_lexer": "ipython3",
   "version": "3.8.8"
  }
 },
 "nbformat": 4,
 "nbformat_minor": 5
}
