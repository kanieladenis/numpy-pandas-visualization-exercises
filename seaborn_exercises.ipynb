{
 "cells": [
  {
   "cell_type": "markdown",
   "id": "142825ef",
   "metadata": {},
   "source": [
    "# Exercises 1"
   ]
  },
  {
   "cell_type": "markdown",
   "id": "6afd4a9a",
   "metadata": {},
   "source": [
    "### Use the iris database to answer the following quesitons:"
   ]
  },
  {
   "cell_type": "markdown",
   "id": "60667bae",
   "metadata": {},
   "source": [
    "## 1. What does the distribution of petal lengths look like?"
   ]
  },
  {
   "cell_type": "code",
   "execution_count": 5,
   "id": "f05212e6",
   "metadata": {},
   "outputs": [
    {
     "name": "stderr",
     "output_type": "stream",
     "text": [
      "Matplotlib is building the font cache; this may take a moment.\n"
     ]
    }
   ],
   "source": [
    "import numpy as np\n",
    "import pandas as pd\n",
    "import matplotlib.pyplot as plt\n",
    "import seaborn as sns"
   ]
  },
  {
   "cell_type": "code",
   "execution_count": 6,
   "id": "191acd3e",
   "metadata": {},
   "outputs": [],
   "source": [
    "def get_db_url(db_name):\n",
    "    from env import user, host, password\n",
    "    return f'mysql+pymysql://{user}:{password}@{host}/{db_name}'"
   ]
  },
  {
   "cell_type": "code",
   "execution_count": 7,
   "id": "cf3cb4a7",
   "metadata": {},
   "outputs": [],
   "source": [
    "sql = \"\"\"\n",
    "SElECT * FROM iris\n",
    "\"\"\""
   ]
  },
  {
   "cell_type": "code",
   "execution_count": null,
   "id": "16ce60e2",
   "metadata": {},
   "outputs": [],
   "source": [
    "url = get_db_url('iris')"
   ]
  },
  {
   "cell_type": "code",
   "execution_count": null,
   "id": "ab7fce38",
   "metadata": {},
   "outputs": [],
   "source": [
    "df = pd.read_sql(sql, url)\n",
    "df.head()"
   ]
  },
  {
   "cell_type": "markdown",
   "id": "cd07f1a5",
   "metadata": {},
   "source": [
    "## 2. Is there a correlation between petal length and petal width?"
   ]
  },
  {
   "cell_type": "markdown",
   "id": "704e5f0d",
   "metadata": {},
   "source": [
    "## 3. Would it be reasonable to predict species based on sepal width and sepal length?"
   ]
  },
  {
   "cell_type": "markdown",
   "id": "2c28dee6",
   "metadata": {},
   "source": [
    "## 4. Which features would be best used to predict species?"
   ]
  },
  {
   "cell_type": "markdown",
   "id": "94097f2c",
   "metadata": {},
   "source": [
    "# Exercise 2"
   ]
  },
  {
   "cell_type": "markdown",
   "id": "202ede20",
   "metadata": {},
   "source": [
    "## 1. Using the lesson as an example, use seaborn's load_dataset function to load the anscombe data set. Use pandas to group the data by the dataset column, and calculate summary statistics for each dataset. What do you notice? ",
    "Plot the x and y values from the anscombe data. Each dataset should be in a separate column"
   ]
  },
  {
   "cell_type": "markdown",
   "id": "3fd2839a",
   "metadata": {},
   "source": [
    "## 2. Load the InsectSprays dataset and read it's documentation. Create a boxplot that shows the effectiveness of the different insect sprays."
   ]
  },
  {
   "cell_type": "markdown",
   "id": "f4eb169c",
   "metadata": {},
   "source": [
    "## 3. Load the swiss dataset and read it's documentation. The swiss dataset is available from pydatset rather than seaborn. Create visualizations to answer the following questions:\n",
    "- Create an attribute named is_catholic that holds a boolean value of whether or not the province is Catholic. (Choose a cutoff point for what constitutes catholic)\n",
    "- Does whether or not a province is Catholic influence fertility?\n",
    "- What measure correlates most strongly with fertility?"
   ]
  },
  {
   "cell_type": "markdown",
   "id": "9689732a",
   "metadata": {},
   "source": [
    "## 4. Using the chipotle dataset from the previous exercise, create a bar chart that shows the 4 most popular items and the revenue produced by each."
   ]
  },
  {
   "cell_type": "markdown",
   "id": "9d91613f",
   "metadata": {},
   "source": [
    "## 5. Load the sleepstudy data and read it's documentation. Use seaborn to create a line chart of all the individual subject's reaction times and a more prominant line showing the average change in reaction time."
   ]
  },
  {
   "cell_type": "code",
   "execution_count": null,
   "id": "6b2ccc98",
   "metadata": {},
   "outputs": [],
   "source": []
  }
 ],
 "metadata": {
  "kernelspec": {
   "display_name": "Python 3",
   "language": "python",
   "name": "python3"
  },
  "language_info": {
   "codemirror_mode": {
    "name": "ipython",
    "version": 3
   },
   "file_extension": ".py",
   "mimetype": "text/x-python",
   "name": "python",
   "nbconvert_exporter": "python",
   "pygments_lexer": "ipython3",
   "version": "3.8.8"
  }
 },
 "nbformat": 4,
 "nbformat_minor": 5
}
